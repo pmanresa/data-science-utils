{
 "cells": [
  {
   "cell_type": "markdown",
   "metadata": {},
   "source": [
    "## Single or Multiclass Label Dumb Classifier\n",
    "\n",
    "Predicts a given set of `pred_vals` on any dataset based on their appearance frequency `p` in the fitted training set.\n",
    "\n",
    "Concretely, the training and inference steps are:\n",
    "- Training:\n",
    "    - Initialize `DumbClassifier` class by optionally providing `pred_vals`. Note that if not provided, the model will infer the possible values to predict from training labels.\n",
    "    - Fit the model, where infers `p`. Given a training label set `y`, the function `fit()` computes the frequency of labels, and normalizes them as a form of probability.\n",
    "    \n",
    "    \n",
    "- Inference\n",
    "    - To predict, provide any test set X, and the function `predict()` will select any of the values in `pred_vals` with their respective probability of appearance in the training set `p`.\n",
    "    \n",
    "    \n",
    "### Next Steps / TODO\n",
    "\n",
    "* "
   ]
  },
  {
   "cell_type": "code",
   "execution_count": null,
   "metadata": {},
   "outputs": [],
   "source": [
    "class DumbClassifier:\n",
    "    \"\"\"Classifier that predicts labels based on their appearance in the training set\"\"\"\n",
    "    \n",
    "    def __init__(self, pred_vals = None):\n",
    "        self.p = p\n",
    "        self.pred_vals = pred_vals\n",
    "        self.fitted = False\n",
    "        \n",
    "    def fit(self, X, y, override_vals=False):\n",
    "        \n",
    "        vals, counts = np.unique(y, return_counts=True)    \n",
    "        self.p = counts / y.shape[0]\n",
    "        if override_vals:\n",
    "            self.pred_vals = vals\n",
    "        \n",
    "        self.fitted = True\n",
    "        \n",
    "    def predict(self, X):\n",
    "        if self.fitted:\n",
    "            preds = np.random.choice(self.pred_vals, size=(X.shape[0],), p=self.p)\n",
    "        else:\n",
    "            raise ValueError(\"Classifier has not been fitted yet. Consider calling .fit() function\")\n",
    "        return preds\n",
    "    \n",
    "    def __repr__(self):\n",
    "        return \"DumbClassifier\""
   ]
  },
  {
   "cell_type": "markdown",
   "metadata": {},
   "source": [
    "## Multilabel Dumb Classifier\n",
    "\n",
    "The Multilabel Dumb Classifier performs a OneVsRest approach of N `DumbClassifier`, where N is the total number of labels. Each DumbClassifier performs same steps as stated in [Single or Multiclass Label Dumb Classifier](#Single-or-Multiclass-Label-Dumb-Classifier). OneVsRest basically generates N binary classifiers aiming to predict `label / other` for the given label n/N.\n",
    "\n",
    "### Next Steps / TODO\n",
    "\n",
    "- "
   ]
  },
  {
   "cell_type": "code",
   "execution_count": null,
   "metadata": {},
   "outputs": [],
   "source": [
    "class MultilabelDumbClassifier:\n",
    "    \n",
    "    def __init__(self, class_names):\n",
    "        self.class_names = class_names\n",
    "        self.individual_clfs = {}\n",
    "        self.fitted = False\n",
    "        \n",
    "    def fit(self, X, y):\n",
    "        \"\"\"\n",
    "        - X : training set of shape (n_samples, n_features)\n",
    "        - y : Binarized multilabelled y set of shape (n_samples, n_classes)\n",
    "        \"\"\"\n",
    "        for i, class_name in enumerate(self.class_names):\n",
    "            labels = y[:, i]\n",
    "            clf = DumbClassifier()\n",
    "            clf.fit(X, labels)\n",
    "            self.individual_clfs[class_name] = clf\n",
    "        self.fitted = True\n",
    "        \n",
    "    def predict(self, X):\n",
    "        if self.fitted:\n",
    "            preds = np.asarray([self.individual_clfs[class_name].predict(X) \n",
    "                                for class_name in self.class_names])\n",
    "            preds = np.transpose(preds)\n",
    "        else:\n",
    "            raise ValueError(\"Classifier has not been fitted yet. Consider calling .fit() function\")\n",
    "        \n",
    "        return preds\n",
    "    \n",
    "    def debug_classifier(self):\n",
    "        if self.fitted:\n",
    "            print(\"{:<40} {:<20} {:<10}\".format(\"Class Name\", \"Pred Values\", \"Probas\"))\n",
    "            for class_name in self.class_names:\n",
    "                clf = self.individual_clfs[class_name]\n",
    "                print(\"{:<40} {:<20} {:<10}\".format(class_name, \n",
    "                                                    str(clf.pred_vals), \n",
    "                                                    str(clf.p)))\n",
    "        else:\n",
    "            raise ValueError(\"Classifier has not been fitted yet. Consider calling .fit() function\")\n",
    "          \n",
    "    def __repr__(self):\n",
    "        return \"MultilabelDumbClassifier\"\n"
   ]
  }
 ],
 "metadata": {
  "kernelspec": {
   "display_name": "Python 3",
   "language": "python",
   "name": "python3"
  },
  "language_info": {
   "codemirror_mode": {
    "name": "ipython",
    "version": 3
   },
   "file_extension": ".py",
   "mimetype": "text/x-python",
   "name": "python",
   "nbconvert_exporter": "python",
   "pygments_lexer": "ipython3",
   "version": "3.8.2"
  }
 },
 "nbformat": 4,
 "nbformat_minor": 4
}
