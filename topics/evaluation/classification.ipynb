{
 "cells": [
  {
   "cell_type": "markdown",
   "metadata": {},
   "source": [
    "# Evaluating Classification Algorithms"
   ]
  },
  {
   "cell_type": "code",
   "execution_count": 1,
   "metadata": {},
   "outputs": [],
   "source": [
    "import numpy as np\n",
    "\n",
    "from sklearn import metrics"
   ]
  },
  {
   "cell_type": "markdown",
   "metadata": {},
   "source": [
    "## Binary Classification Metrics\n",
    "\n",
    "* Metrics computed\n",
    "    * Accuracy\n",
    "    * \n",
    "    \n",
    "### Next Steps / TODOs\n",
    "\n",
    "* Implement more metrics"
   ]
  },
  {
   "cell_type": "code",
   "execution_count": null,
   "metadata": {},
   "outputs": [],
   "source": [
    "def benchmark_binary_clf(y_true, y_pred, feature_names=None, target_names=None, verbose=False):\n",
    "    \n",
    "    from sklearn.utils.extmath import density\n",
    "    \n",
    "    accuracy = metrics.accuracy_score(y_true, y_pred)\n",
    "    \n",
    "    if hasattr(clf, 'coef_'):\n",
    "        if verbose:\n",
    "            print(\"Dimensionality: %d\" % clf.coef_.shape[1])\n",
    "            print(\"Density: %f\" % density(clf.coef_))\n",
    "\n",
    "        if print_top10 and feature_names is not None:\n",
    "            print(clf)\n",
    "            print(\"Top 10 most important features:\")\n",
    "            top10 = np.argsort(clf.coef_[0])[-10:]\n",
    "            print(\" \".join(feature_names[top10]))\n",
    "\n",
    "    if print_report:\n",
    "        print(\"Classification report:\")\n",
    "        if target_names:\n",
    "            print(metrics.classification_report(y_true, y_pred, target_names=target_names))\n",
    "        else:\n",
    "            print(metrics.classification_report(y_true, y_pred))\n",
    "\n",
    "    if print_cm:\n",
    "        print(\"Confusion matrix:\")\n",
    "        print(metrics.confusion_matrix(y_true, y_pred))\n",
    "    print()\n",
    "    \n",
    "    clf_descr = str(clf).split('(')[0]\n",
    "    \n",
    "    return scores\n"
   ]
  }
 ],
 "metadata": {
  "kernelspec": {
   "display_name": "Python 3",
   "language": "python",
   "name": "python3"
  },
  "language_info": {
   "codemirror_mode": {
    "name": "ipython",
    "version": 3
   },
   "file_extension": ".py",
   "mimetype": "text/x-python",
   "name": "python",
   "nbconvert_exporter": "python",
   "pygments_lexer": "ipython3",
   "version": "3.8.2"
  }
 },
 "nbformat": 4,
 "nbformat_minor": 4
}
