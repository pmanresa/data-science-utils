{
 "cells": [
  {
   "cell_type": "markdown",
   "metadata": {},
   "source": [
    "## Useful Imports"
   ]
  },
  {
   "cell_type": "code",
   "execution_count": null,
   "metadata": {},
   "outputs": [],
   "source": [
    "import pickle\n",
    "import sys\n",
    "import pathlib as pl\n",
    "from pprint import pprint\n",
    "\n",
    "# packages for analysis\n",
    "from scipy import stats\n",
    "import sklearn\n",
    "\n",
    "from statsmodels.discrete import discrete_model as dm\n",
    "from statsmodels.regression import linear_model as lm\n",
    "from statsmodels.tools import sm_exceptions\n",
    "from statsmodels.tools import tools\n",
    "\n",
    "# jupyter display\n",
    "from IPython.core.display import display, HTML\n",
    "display(HTML(\"<style>.container { width:100% !important; }</style>\"))\n",
    "\n",
    "# data processing\n",
    "import pandas as pd\n",
    "import numpy as np\n",
    "pd.set_option(\"display.max_columns\", None)\n",
    "pd.set_option('display.max_rows', 500)\n",
    "\n",
    "# plotting\n",
    "import matplotlib.pyplot as plt\n",
    "%matplotlib inline\n",
    "\n",
    "import plotly.figure_factory as ff\n",
    "import plotly.graph_objs as go\n",
    "import plotly.express as px\n",
    "from plotly.offline import download_plotlyjs, init_notebook_mode, plot, iplot\n",
    "from plotly import tools\n",
    "init_notebook_mode(connected=True)\n",
    "\n",
    "import holoviews as hv\n",
    "hv.extension('bokeh')\n",
    "%opts Scatter [width=600 height=400 legend_position='left' show_grid=True]\n",
    "%opts Curve [width=600 height=400 show_grid=True]\n",
    "%opts NdOverlay [legend_position='right' show_grid=True]\n",
    "%opts Overlay [legend_position='right']"
   ]
  }
 ],
 "metadata": {
  "kernelspec": {
   "display_name": "Python 3",
   "language": "python",
   "name": "python3"
  },
  "language_info": {
   "codemirror_mode": {
    "name": "ipython",
    "version": 3
   },
   "file_extension": ".py",
   "mimetype": "text/x-python",
   "name": "python",
   "nbconvert_exporter": "python",
   "pygments_lexer": "ipython3",
   "version": "3.8.2"
  }
 },
 "nbformat": 4,
 "nbformat_minor": 4
}
